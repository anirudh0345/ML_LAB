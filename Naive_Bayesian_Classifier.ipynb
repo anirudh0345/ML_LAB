{
  "nbformat": 4,
  "nbformat_minor": 0,
  "metadata": {
    "colab": {
      "provenance": [],
      "authorship_tag": "ABX9TyNRWG+o6RD+W4G9DiQkS5nV",
      "include_colab_link": true
    },
    "kernelspec": {
      "name": "python3",
      "display_name": "Python 3"
    },
    "language_info": {
      "name": "python"
    }
  },
  "cells": [
    {
      "cell_type": "markdown",
      "metadata": {
        "id": "view-in-github",
        "colab_type": "text"
      },
      "source": [
        "<a href=\"https://colab.research.google.com/github/anirudh0345/ML_LAB/blob/main/Naive_Bayesian_Classifier.ipynb\" target=\"_parent\"><img src=\"https://colab.research.google.com/assets/colab-badge.svg\" alt=\"Open In Colab\"/></a>"
      ]
    },
    {
      "cell_type": "code",
      "source": [
        "import numpy as np\n",
        "import pandas as pd\n",
        "\n",
        "from sklearn.model_selection import train_test_split\n",
        "from sklearn.naive_bayes import GaussianNB\n",
        "from sklearn import metrics\n"
      ],
      "metadata": {
        "id": "q3gxrCuMD4ht"
      },
      "execution_count": 22,
      "outputs": []
    },
    {
      "cell_type": "code",
      "source": [
        "from google.colab import drive\n",
        "drive.mount(\"/content/drive\")"
      ],
      "metadata": {
        "colab": {
          "base_uri": "https://localhost:8080/"
        },
        "id": "1o2aOHRKD4od",
        "outputId": "ba85fa82-0af9-47cc-d1e9-32a406391c64"
      },
      "execution_count": 15,
      "outputs": [
        {
          "output_type": "stream",
          "name": "stdout",
          "text": [
            "Drive already mounted at /content/drive; to attempt to forcibly remount, call drive.mount(\"/content/drive\", force_remount=True).\n"
          ]
        }
      ]
    },
    {
      "cell_type": "code",
      "source": [
        "data = pd.read_csv(\"/content/drive/MyDrive/Dataset/pima_indian.csv\")\n",
        "print(data,\"\\n\")\n"
      ],
      "metadata": {
        "colab": {
          "base_uri": "https://localhost:8080/"
        },
        "id": "_CWlxT44HERn",
        "outputId": "368cacd4-f6db-473a-b94d-4e9d12ce8a69"
      },
      "execution_count": 23,
      "outputs": [
        {
          "output_type": "stream",
          "name": "stdout",
          "text": [
            "     num_preg  glucose_conc  diastolic_bp  thickness  insulin   bmi  \\\n",
            "0           6           148            72         35        0  33.6   \n",
            "1           1            85            66         29        0  26.6   \n",
            "2           8           183            64          0        0  23.3   \n",
            "3           1            89            66         23       94  28.1   \n",
            "4           0           137            40         35      168  43.1   \n",
            "..        ...           ...           ...        ...      ...   ...   \n",
            "763        10           101            76         48      180  32.9   \n",
            "764         2           122            70         27        0  36.8   \n",
            "765         5           121            72         23      112  26.2   \n",
            "766         1           126            60          0        0  30.1   \n",
            "767         1            93            70         31        0  30.4   \n",
            "\n",
            "     diab_pred  age  diabetes  \n",
            "0        0.627   50         1  \n",
            "1        0.351   31         0  \n",
            "2        0.672   32         1  \n",
            "3        0.167   21         0  \n",
            "4        2.288   33         1  \n",
            "..         ...  ...       ...  \n",
            "763      0.171   63         0  \n",
            "764      0.340   27         0  \n",
            "765      0.245   30         0  \n",
            "766      0.349   47         1  \n",
            "767      0.315   23         0  \n",
            "\n",
            "[768 rows x 9 columns] \n",
            "\n"
          ]
        }
      ]
    },
    {
      "cell_type": "code",
      "source": [
        "feature_col_names = ['num_preg', 'glucose_conc', 'diastolic_bp', 'thickness', 'insulin', 'bmi', 'diab_pred', 'age']\n",
        "predicted_class_names = ['diabetes']"
      ],
      "metadata": {
        "id": "SIyPzW5pIEF1"
      },
      "execution_count": 24,
      "outputs": []
    },
    {
      "cell_type": "code",
      "source": [
        "X = data[feature_col_names].values # these are factors for the prediction\n",
        "y = data[predicted_class_names].values # this is what we want to predict\n"
      ],
      "metadata": {
        "id": "pQfWbHJxIJ-r"
      },
      "execution_count": 25,
      "outputs": []
    },
    {
      "cell_type": "code",
      "source": [
        "xtrain,xtest,ytrain,ytest=train_test_split(X,y,test_size=0.33)\n",
        "\n",
        "print ('\\n The total number of Training Data :',ytrain.shape)\n",
        "print ('\\n The total number of Test Data :',ytest.shape)\n"
      ],
      "metadata": {
        "colab": {
          "base_uri": "https://localhost:8080/"
        },
        "id": "-gz27YLWIKIz",
        "outputId": "90e39e5c-68e3-4341-d523-090194ea94f4"
      },
      "execution_count": 26,
      "outputs": [
        {
          "output_type": "stream",
          "name": "stdout",
          "text": [
            "\n",
            " The total number of Training Data : (514, 1)\n",
            "\n",
            " The total number of Test Data : (254, 1)\n"
          ]
        }
      ]
    },
    {
      "cell_type": "code",
      "source": [
        "clf = GaussianNB().fit(xtrain,ytrain.ravel())\n",
        "predicted = clf.predict(xtest)\n",
        "predictTestData= clf.predict([[6,148,72,35,0,33.6,0.627,50]])"
      ],
      "metadata": {
        "id": "WqokHqBZIWmM"
      },
      "execution_count": 27,
      "outputs": []
    },
    {
      "cell_type": "code",
      "source": [
        "print('\\n Confusion matrix')\n",
        "print(metrics.confusion_matrix(ytest,predicted))\n",
        "\n",
        "print('\\n Accuracy of the classifier is',round(metrics.accuracy_score(ytest,predicted) ,3))\n",
        "\n",
        "print('\\n The value of Precision', round(metrics.precision_score(ytest,predicted), 3))\n",
        "\n",
        "print('\\n The value of Recall', round(metrics.recall_score(ytest,predicted), 3))\n",
        "\n",
        "print(\" Predicted Value for individual Test Data:\", predictTestData)"
      ],
      "metadata": {
        "colab": {
          "base_uri": "https://localhost:8080/"
        },
        "id": "eihqOW9xIWzz",
        "outputId": "aa02ccfa-7f33-4a56-98ac-21c3ad4f6bb0"
      },
      "execution_count": 28,
      "outputs": [
        {
          "output_type": "stream",
          "name": "stdout",
          "text": [
            "\n",
            " Confusion matrix\n",
            "[[137  27]\n",
            " [ 36  54]]\n",
            "\n",
            " Accuracy of the classifier is 0.752\n",
            "\n",
            " The value of Precision 0.667\n",
            "\n",
            " The value of Recall 0.6\n",
            " Predicted Value for individual Test Data: [1]\n"
          ]
        }
      ]
    }
  ]
}