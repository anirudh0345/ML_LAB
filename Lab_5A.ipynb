{
  "nbformat": 4,
  "nbformat_minor": 0,
  "metadata": {
    "colab": {
      "provenance": [],
      "authorship_tag": "ABX9TyMWM4wMbKvvYdXLUL5faq0G",
      "include_colab_link": true
    },
    "kernelspec": {
      "name": "python3",
      "display_name": "Python 3"
    },
    "language_info": {
      "name": "python"
    }
  },
  "cells": [
    {
      "cell_type": "markdown",
      "metadata": {
        "id": "view-in-github",
        "colab_type": "text"
      },
      "source": [
        "<a href=\"https://colab.research.google.com/github/anirudh0345/ML_LAB/blob/main/Lab_5A.ipynb\" target=\"_parent\"><img src=\"https://colab.research.google.com/assets/colab-badge.svg\" alt=\"Open In Colab\"/></a>"
      ]
    },
    {
      "cell_type": "code",
      "source": [
        "from google.colab import drive\n",
        "drive.mount(\"/content/drive\")"
      ],
      "metadata": {
        "colab": {
          "base_uri": "https://localhost:8080/"
        },
        "id": "imVXg5dL6DfA",
        "outputId": "9605ff67-3201-44c7-ee69-befffd479770"
      },
      "execution_count": 8,
      "outputs": [
        {
          "output_type": "stream",
          "name": "stdout",
          "text": [
            "Mounted at /content/drive\n"
          ]
        }
      ]
    },
    {
      "cell_type": "code",
      "source": [
        "! pip install bayespy"
      ],
      "metadata": {
        "colab": {
          "base_uri": "https://localhost:8080/"
        },
        "id": "Hk4jQqC17OfR",
        "outputId": "65dafaf9-79f9-4d48-cdd5-5cde48080b4d"
      },
      "execution_count": 23,
      "outputs": [
        {
          "output_type": "stream",
          "name": "stdout",
          "text": [
            "Looking in indexes: https://pypi.org/simple, https://us-python.pkg.dev/colab-wheels/public/simple/\n",
            "Collecting bayespy\n",
            "  Downloading bayespy-0.5.25.tar.gz (401 kB)\n",
            "\u001b[2K     \u001b[90m━━━━━━━━━━━━━━━━━━━━━━━━━━━━━━━━━━━━━━━\u001b[0m \u001b[32m401.7/401.7 kB\u001b[0m \u001b[31m7.6 MB/s\u001b[0m eta \u001b[36m0:00:00\u001b[0m\n",
            "\u001b[?25h  Preparing metadata (setup.py) ... \u001b[?25l\u001b[?25hdone\n",
            "Requirement already satisfied: numpy>=1.10.0 in /usr/local/lib/python3.10/dist-packages (from bayespy) (1.22.4)\n",
            "Requirement already satisfied: scipy>=0.13.0 in /usr/local/lib/python3.10/dist-packages (from bayespy) (1.10.1)\n",
            "Requirement already satisfied: h5py in /usr/local/lib/python3.10/dist-packages (from bayespy) (3.8.0)\n",
            "Building wheels for collected packages: bayespy\n",
            "  Building wheel for bayespy (setup.py) ... \u001b[?25l\u001b[?25hdone\n",
            "  Created wheel for bayespy: filename=bayespy-0.5.25-py3-none-any.whl size=377588 sha256=1cf169cf2904444aa91db563e9841f3767d2d739004d12da600becc66ac21530\n",
            "  Stored in directory: /root/.cache/pip/wheels/fd/ae/c0/0140f31aa4575be0f2279df7dffcaf16ed8ca7fd33e9682bea\n",
            "Successfully built bayespy\n",
            "Installing collected packages: bayespy\n",
            "Successfully installed bayespy-0.5.25\n"
          ]
        }
      ]
    },
    {
      "cell_type": "code",
      "source": [
        "!pip install colorama"
      ],
      "metadata": {
        "colab": {
          "base_uri": "https://localhost:8080/"
        },
        "id": "TpzJhgOP8cdz",
        "outputId": "3ed10024-4355-40e5-afe6-dafbd7cf17b0"
      },
      "execution_count": 26,
      "outputs": [
        {
          "output_type": "stream",
          "name": "stdout",
          "text": [
            "Looking in indexes: https://pypi.org/simple, https://us-python.pkg.dev/colab-wheels/public/simple/\n",
            "Collecting colorama\n",
            "  Downloading colorama-0.4.6-py2.py3-none-any.whl (25 kB)\n",
            "Installing collected packages: colorama\n",
            "Successfully installed colorama-0.4.6\n"
          ]
        }
      ]
    },
    {
      "cell_type": "code",
      "source": [
        "import bayespy as bp\n",
        "import numpy as np\n",
        "import csv\n",
        "\n",
        "from colorama import init\n",
        "from colorama import Fore, Back, Style"
      ],
      "metadata": {
        "id": "UKIgw2ou8ccx"
      },
      "execution_count": 27,
      "outputs": []
    },
    {
      "cell_type": "code",
      "source": [
        "\n",
        "ageEnum = {'SuperSeniorCitizen':0, 'SeniorCitizen':1, 'MiddleAged':2, 'Youth':3, 'Teen':4}\n",
        "genderEnum = {'Male':0, 'Female':1}\n",
        "familyHistoryEnum = {'Yes':0, 'No':1}\n",
        "dietEnum = {'High':0, 'Medium':1, 'Low':2}\n",
        "lifeStyleEnum = {'Athlete':0, 'Active':1, 'Moderate':2, 'Sedetary':3}\n",
        "cholesterolEnum = {'High':0, 'BorderLine':1, 'Normal':2}\n",
        "heartDiseaseEnum = {'Yes':0, 'No':1}"
      ],
      "metadata": {
        "id": "CTELXF0C78ue"
      },
      "execution_count": 28,
      "outputs": []
    },
    {
      "cell_type": "code",
      "source": [
        "import pandas as pd"
      ],
      "metadata": {
        "id": "VuS17dGH8cjl"
      },
      "execution_count": 31,
      "outputs": []
    },
    {
      "cell_type": "code",
      "source": [
        "h = pd.read_csv(\"/content/drive/MyDrive/Dataset/heart_disease_data.csv\")\n",
        "print(h,\"\\n\")"
      ],
      "metadata": {
        "colab": {
          "base_uri": "https://localhost:8080/"
        },
        "id": "t4HR7fH48cik",
        "outputId": "616995da-f377-4ef9-d48e-30e77a3c3e24"
      },
      "execution_count": 33,
      "outputs": [
        {
          "output_type": "stream",
          "name": "stdout",
          "text": [
            "    age  Gender  Family  diet  Lifestyle  cholestrol  heartdisease\n",
            "0     0     0.0       1     1          3           0             1\n",
            "1     0     1.0       1     1          3           0             1\n",
            "2     1     NaN       0     0          2           1             1\n",
            "3     4     0.0       1     1          3           2             0\n",
            "4     3     1.0       1     0          0           2             0\n",
            "5     2     0.0       1     1          1           0             1\n",
            "6     4     0.0       1     0          2           0             1\n",
            "7     0     0.0       1     1          3           0             1\n",
            "8     3     1.0       1     0          0           2             0\n",
            "9     1     1.0       0     0          0           2             1\n",
            "10    4     1.0       0     1          2           0             1\n",
            "11    4     0.0       1     1          3           2             0\n",
            "12    2     1.0       0     0          0           0             0\n",
            "13    2     0.0       1     1          1           0             1\n",
            "14    3     1.0       1     0          0           1             0\n",
            "15    0     0.0       1     0          0           2             1\n",
            "16    1     1.0       0     1          2           1             1\n",
            "17    3     1.0       1     1          0           1             0\n",
            "18    4     0.0       1     1          3           2             0 \n",
            "\n"
          ]
        }
      ]
    },
    {
      "cell_type": "code",
      "source": [
        "h =np.array(h, dtype='int8')\n",
        "N = len(h)"
      ],
      "metadata": {
        "id": "yQq3hZW3_zGf"
      },
      "execution_count": 39,
      "outputs": []
    },
    {
      "cell_type": "code",
      "source": [
        "p_age = bp.nodes.Dirichlet(1.0*np.ones(5))\n",
        "age = bp.nodes.Categorical(p_age, plates=(N,))\n",
        "age.observe(h[:, 0])\n",
        "\n",
        "p_gender = bp.nodes.Dirichlet(1.0*np.ones(2))\n",
        "gender = bp.nodes.Categorical(p_gender, plates=(N,))\n",
        "gender.observe(h[:, 1])\n",
        "\n",
        "p_familyhistory = bp.nodes.Dirichlet(1.0*np.ones(2))\n",
        "familyhistory = bp.nodes.Categorical(p_familyhistory, plates=(N,))\n",
        "familyhistory.observe(h[:, 2])\n",
        "\n",
        "p_diet = bp.nodes.Dirichlet(1.0*np.ones(3))\n",
        "diet = bp.nodes.Categorical(p_diet, plates=(N,))\n",
        "diet.observe(h[:, 3])\n",
        "\n",
        "p_lifestyle = bp.nodes.Dirichlet(1.0*np.ones(4))\n",
        "lifestyle = bp.nodes.Categorical(p_lifestyle, plates=(N,))\n",
        "lifestyle.observe(h[:, 4])\n",
        "\n",
        "p_cholesterol = bp.nodes.Dirichlet(1.0*np.ones(3))\n",
        "cholesterol = bp.nodes.Categorical(p_cholesterol, plates=(N,))\n",
        "cholesterol.observe(h[:, 5])"
      ],
      "metadata": {
        "id": "ewNbDwnQBYla"
      },
      "execution_count": 41,
      "outputs": []
    },
    {
      "cell_type": "code",
      "source": [
        "p_heartdisease = bp.nodes.Dirichlet(np.ones(2), plates=(5, 2, 2, 3, 4, 3))\n",
        "heartdisease = bp.nodes.MultiMixture(\n",
        "    [age, gender, familyhistory, diet, lifestyle, cholesterol], bp.nodes.Categorical, p_heartdisease)\n",
        "heartdisease.observe(h[:, 6])\n",
        "p_heartdisease.update()"
      ],
      "metadata": {
        "id": "5MfOXsvDBpcS"
      },
      "execution_count": 43,
      "outputs": []
    },
    {
      "cell_type": "code",
      "source": [
        "m = 0\n",
        "while m == 0:\n",
        "    print(\"\\n\")\n",
        "    res = bp.nodes.MultiMixture([int(input('Enter Age: ' + str(ageEnum))), int(input('Enter Gender: ' + str(genderEnum))), int(input('Enter FamilyHistory: ' + str(familyHistoryEnum))), int(input('Enter dietEnum: ' + str(dietEnum))), int(input('Enter LifeStyle: ' + str(lifeStyleEnum))), int(input('Enter Cholesterol: ' + str(cholesterolEnum)))], bp.nodes.Categorical, p_heartdisease).get_moments()[0][heartDiseaseEnum['Yes']]\n",
        "    print(\"Probability(HeartDisease) = \" + str(res))\n",
        "\n",
        "# print(Style.RESET_ALL)\n",
        "    m = int(input(\"Enter for Continue:0, Exit :1 \")"
      ],
      "metadata": {
        "colab": {
          "base_uri": "https://localhost:8080/",
          "height": 130
        },
        "id": "N2_-SuOrBpk5",
        "outputId": "a50fe067-56f6-4dd3-dd28-3ed258e060aa"
      },
      "execution_count": 45,
      "outputs": [
        {
          "output_type": "error",
          "ename": "SyntaxError",
          "evalue": "ignored",
          "traceback": [
            "\u001b[0;36m  File \u001b[0;32m\"<ipython-input-45-66862ef1e1ea>\"\u001b[0;36m, line \u001b[0;32m8\u001b[0m\n\u001b[0;31m    m = int(input(\"Enter for Continue:0, Exit :1 \")\u001b[0m\n\u001b[0m                                                   ^\u001b[0m\n\u001b[0;31mSyntaxError\u001b[0m\u001b[0;31m:\u001b[0m incomplete input\n"
          ]
        }
      ]
    }
  ]
}